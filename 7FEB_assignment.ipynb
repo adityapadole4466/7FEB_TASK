{
 "cells": [
  {
   "cell_type": "code",
   "execution_count": 3,
   "id": "aa78fc01-f581-4c7b-ada6-e90b0f006fef",
   "metadata": {},
   "outputs": [],
   "source": [
    "\"\"\"Q1. You are writing code for a company. The requirement of the company is that you create a python\n",
    "function that will check whether the password entered by the user is correct or not. The function should\n",
    "take the password as input and return the string “Valid Password” if the entered password follows the\n",
    "below-given password guidelines else it should return “Invalid Password”.\n",
    "Note: 1. The Password should contain at least two uppercase letters and at least two lowercase letters.\n",
    "2. The Password should contain at least a number and three special characters.\n",
    "\"\"\"\n",
    "import re\n",
    "\n",
    "def check_password(password):\n",
    "    # Check if the password is at least 10 characters long\n",
    "    if len(password) < 10:\n",
    "        return \"Invalid Password\"\n",
    "    \n",
    "    # Check if the password contains at least 2 uppercase and 2 lowercase letters\n",
    "    if sum(1 for c in password if c.isupper()) < 2 or sum(1 for c in password if c.islower()) < 2:\n",
    "        return \"Invalid Password\"\n",
    "    \n",
    "    # Check if the password contains at least 1 number and 3 special characters\n",
    "    if not re.search(r\"\\d\", password) or not re.findall(r\"[~!@#$%^&*()_+`\\-={}\\[\\]:\\\";'<>,.?/\\\\|]\", password):\n",
    "        return \"Invalid Password\"\n",
    "    \n",
    "    # If all the above conditions are met, return \"Valid Password\"\n",
    "    return \"Valid Password\"\n"
   ]
  },
  {
   "cell_type": "code",
   "execution_count": 10,
   "id": "58081d46-844f-41da-b4b1-4d10293e1914",
   "metadata": {},
   "outputs": [
    {
     "name": "stdout",
     "output_type": "stream",
     "text": [
      "['banana']\n"
     ]
    }
   ],
   "source": [
    "\"\"\"\n",
    "\n",
    "Q2. Solve the below-given questions using at least one of the following:\n",
    "1. Lambda functioJ\n",
    "2. Filter functioJ\n",
    "3. Zap functioJ\n",
    "4. List Comprehension\n",
    "\n",
    "\n",
    "\"\"\"\"\n",
    "\n",
    "# Check if the string starts with a particular letter\n",
    "words = ['apple', 'banana', 'cherry', 'date', 'elderberry']\n",
    "letter = 'b'\n",
    "\n",
    "result = [word for word in words if word.startswith(letter)]\n",
    "print(result)"
   ]
  },
  {
   "cell_type": "code",
   "execution_count": 11,
   "id": "f2466c44-94b8-40d5-be3f-7b26efc5702b",
   "metadata": {},
   "outputs": [
    {
     "name": "stdout",
     "output_type": "stream",
     "text": [
      "[True, True, True, False, False]\n"
     ]
    }
   ],
   "source": [
    "#Check if the string is numeric\n",
    "strings = ['123', '456', '789', 'not', 'numeric']\n",
    "numeric = list(map(str.isnumeric, strings))\n",
    "print(numeric)\n"
   ]
  },
  {
   "cell_type": "code",
   "execution_count": 12,
   "id": "5362fd18-fe7d-45b9-9deb-681093e32715",
   "metadata": {},
   "outputs": [
    {
     "name": "stdout",
     "output_type": "stream",
     "text": [
      "[('orange', 80), ('mango', 99), ('grapes', 1000)]\n"
     ]
    }
   ],
   "source": [
    "#Sort a list of tuples having fruit names and their quantity. [(\"mango\",99),(\"orange\",80), (\"grapes\", 1000)]\n",
    "fruits = [(\"mango\", 99), (\"orange\", 80), (\"grapes\", 1000)]\n",
    "sorted_fruits = sorted(fruits, key=lambda x: x[1])\n",
    "print(sorted_fruits)\n"
   ]
  },
  {
   "cell_type": "code",
   "execution_count": 13,
   "id": "e6ed0c68-e8ed-4e62-8b44-ee9576646bc9",
   "metadata": {},
   "outputs": [
    {
     "name": "stdout",
     "output_type": "stream",
     "text": [
      "[1, 4, 9, 16, 25, 36, 49, 64, 81, 100]\n"
     ]
    }
   ],
   "source": [
    "#Find the squares of numbers from 1 to 10\n",
    "# Define the filtering condition\n",
    "def filter_condition(x):\n",
    "    return 1 <= x <= 10\n",
    "\n",
    "# Define the mapping function\n",
    "def map_function(x):\n",
    "    return x ** 2\n",
    "\n",
    "# Create a list of numbers from 1 to 20\n",
    "numbers = list(range(1, 21))\n",
    "\n",
    "# Use filter to get only numbers from 1 to 10\n",
    "filtered_numbers = list(filter(filter_condition, numbers))\n",
    "\n",
    "# Use map to find their squares\n",
    "squares = list(map(map_function, filtered_numbers))\n",
    "\n",
    "# Print the squares\n",
    "print(squares)\n"
   ]
  },
  {
   "cell_type": "code",
   "execution_count": 20,
   "id": "70a4a02a-f3d6-40e9-8fdd-569e559bc290",
   "metadata": {},
   "outputs": [
    {
     "name": "stdout",
     "output_type": "stream",
     "text": [
      "List of numbers:\n",
      "[1, 2, 3, 4, 5]\n",
      "\n",
      "Cube of every number of the provided list:\n",
      "[1, 8, 27, 64, 125]\n"
     ]
    }
   ],
   "source": [
    "#Find the cube root of numbers from 1 to 10\n",
    "numbers = [1, 2, 3, 4, 5]\n",
    "print(\"List of numbers:\")\n",
    "print(numbers)\n",
    "\n",
    "print(\"\\nCube of every number of the provided list:\")\n",
    "cube_numbers = list(map(lambda x: x ** 3, numbers))\n",
    "print(cube_numbers)\n"
   ]
  },
  {
   "cell_type": "code",
   "execution_count": 15,
   "id": "e17f70f2-8024-4510-b249-67a781c33d7a",
   "metadata": {},
   "outputs": [
    {
     "name": "stdout",
     "output_type": "stream",
     "text": [
      "Even\n"
     ]
    }
   ],
   "source": [
    "# Check if a given number is even\n",
    "# define the number\n",
    "num = 6\n",
    "\n",
    "# check if the number is even using list comprehension\n",
    "result = \"Even\" if num % 2 == 0 else \"Odd\"\n",
    "\n",
    "# print the result\n",
    "print(result)\n"
   ]
  },
  {
   "cell_type": "code",
   "execution_count": 16,
   "id": "b1a57c0e-85a4-4aa1-a4ac-2dbe3a728cb9",
   "metadata": {},
   "outputs": [
    {
     "name": "stdout",
     "output_type": "stream",
     "text": [
      "[1, None, 3, None, 5, None, 7, None, 9, None]\n"
     ]
    }
   ],
   "source": [
    "#Filter odd numbers from the given list.\n",
    "#[1,2,3,4,5,6,7,8,9,10]\n",
    "# Function to check if a number is odd\n",
    "def is_odd(num):\n",
    "    return num % 2 != 0\n",
    "\n",
    "# List of numbers\n",
    "nums = [1, 2, 3, 4, 5, 6, 7, 8, 9, 10]\n",
    "\n",
    "# Filter odd numbers using map function\n",
    "odd_nums = list(map(lambda x: x if is_odd(x) else None, nums))\n",
    "\n",
    "# Print the filtered odd numbers\n",
    "print(odd_nums)\n"
   ]
  },
  {
   "cell_type": "code",
   "execution_count": 18,
   "id": "bd7bc105-86f0-458a-9fbd-4b68ca8df9a9",
   "metadata": {},
   "outputs": [
    {
     "name": "stdout",
     "output_type": "stream",
     "text": [
      "Positive numbers: [1, 2, 3, 4, 5, 6]\n",
      "Negative numbers: [-1, -2, -3, -4, -5]\n"
     ]
    }
   ],
   "source": [
    "#Sort a list of integers into positive and negative integers lists.\n",
    "#[1,2,3,4,5,6,-1,-2,-3,-4,-5,0]\n",
    "nums = [1, 2, 3, 4, 5, 6, -1, -2, -3, -4, -5, 0]\n",
    "\n",
    "positive_nums = list(filter(lambda x: x > 0, nums))\n",
    "negative_nums = list(filter(lambda x: x < 0, nums))\n",
    "\n",
    "print(\"Positive numbers:\", positive_nums)\n",
    "print(\"Negative numbers:\", negative_nums)\n"
   ]
  },
  {
   "cell_type": "code",
   "execution_count": null,
   "id": "353dda61-386d-47ed-98e2-6b324c91346c",
   "metadata": {},
   "outputs": [],
   "source": []
  }
 ],
 "metadata": {
  "kernelspec": {
   "display_name": "Python 3 (ipykernel)",
   "language": "python",
   "name": "python3"
  },
  "language_info": {
   "codemirror_mode": {
    "name": "ipython",
    "version": 3
   },
   "file_extension": ".py",
   "mimetype": "text/x-python",
   "name": "python",
   "nbconvert_exporter": "python",
   "pygments_lexer": "ipython3",
   "version": "3.10.8"
  }
 },
 "nbformat": 4,
 "nbformat_minor": 5
}
